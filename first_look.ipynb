{
 "cells": [
  {
   "cell_type": "markdown",
   "metadata": {
    "id": "D4RJiAn1FRjd"
   },
   "source": [
    "# First look at Python\n",
    "\n",
    "Python is a programming language that is extensively used in the tech industry. \n",
    "\n",
    "It allows to do a vast number of things: you can build websites, automatise things in your computer, machine learning and data analysis, scientific simulation and scientific research... It's an extremely useful tool!"
   ]
  },
  {
   "cell_type": "code",
   "execution_count": null,
   "metadata": {
    "colab": {
     "base_uri": "https://localhost:8080/"
    },
    "id": "R1GcSoc8FOV6",
    "outputId": "4de103d4-a06d-43f1-f79e-5e90744e025f"
   },
   "outputs": [],
   "source": [
    "print(\"Hello! This is a very simple statement in Python. It prints text.\")"
   ]
  },
  {
   "cell_type": "code",
   "execution_count": null,
   "metadata": {
    "colab": {
     "base_uri": "https://localhost:8080/"
    },
    "id": "81IJegnVHNuQ",
    "outputId": "ed6a9308-8a3d-4af0-8b42-9211e4bcfb70"
   },
   "outputs": [],
   "source": [
    "from datetime import date \n",
    "print(f\"Today's date is {date.today()}\")\n"
   ]
  },
  {
   "cell_type": "code",
   "execution_count": null,
   "metadata": {
    "colab": {
     "base_uri": "https://localhost:8080/"
    },
    "id": "sn44PVjTHf38",
    "outputId": "1643b917-1b90-4add-ced5-a4ca007cd16b"
   },
   "outputs": [],
   "source": [
    "print(f\"Python can also do mathematics, for example: 2+500={2+500}\")"
   ]
  },
  {
   "cell_type": "markdown",
   "metadata": {
    "id": "v1ZAnIiEIyGa"
   },
   "source": [
    "We can also do more complicated things (for example, more complicated mathematics) by importing **libraries**, which consist of a lot of code that other people have written with an application in mind, and that we can reuse. \n",
    "\n",
    "Here, we import the math library, that allows us to do more complex mathematics"
   ]
  },
  {
   "cell_type": "code",
   "execution_count": null,
   "metadata": {
    "colab": {
     "base_uri": "https://localhost:8080/"
    },
    "id": "mk-tbUBaHrXO",
    "outputId": "e5b63f1f-3bff-4df3-c1e6-2a5e912c7ad0"
   },
   "outputs": [],
   "source": [
    "import math # we tell python we want to use this library\n",
    "print(f\"Also somewhat complicated mathematics, sqrt(72)~= {math.sqrt(72):.2f}\")\n",
    "\n",
    "print(f\"Compare sin(pi/4 = 45°) = {math.sin(math.pi / 4)} with sqrt(2)/2 = {math.sqrt(2)/2}\")"
   ]
  },
  {
   "cell_type": "markdown",
   "metadata": {
    "id": "dtjRIaDmH8hh"
   },
   "source": [
    "In particular, for data science there is a library that is widely used.\n",
    "\n",
    "It's called **pandas** and can load data files as Pandas **dataframes**. \n",
    "\n",
    "To give this a test, we're going to load the Titanic dataset from a [csv file that's available online.](https://raw.githubusercontent.com/mwaskom/seaborn-data/master/titanic.csv)\n",
    "\n",
    "A `csv` file is a bit like an excel file, albeit much simpler: the acronym means **c**omma **s**eparated **v**alues. Go have a look!"
   ]
  },
  {
   "cell_type": "code",
   "execution_count": null,
   "metadata": {
    "id": "qOnntSJAH3aB"
   },
   "outputs": [],
   "source": [
    "import pandas as pd \n",
    "\n",
    "#load the file from the internet\n",
    "df = pd.read_csv('https://raw.githubusercontent.com/mwaskom/seaborn-data/master/titanic.csv')\n",
    "\n",
    "#show the first 5 lines\n",
    "df.head(5)"
   ]
  },
  {
   "cell_type": "code",
   "execution_count": null,
   "metadata": {},
   "outputs": [],
   "source": [
    "# we can do some easy computations: what is the average age by gender ? how many people are there in each class ? \n",
    "\n",
    "df.groupby('sex')['age'].mean()"
   ]
  },
  {
   "cell_type": "code",
   "execution_count": null,
   "metadata": {},
   "outputs": [],
   "source": [
    "# percentage of survivors per class and sex\n",
    "\n",
    "df.groupby(['class', 'sex'])['survived'].mean()*100"
   ]
  },
  {
   "cell_type": "markdown",
   "metadata": {},
   "source": [
    "# Profiling\n",
    "\n",
    "We can do some simple \"profiling\", i.e. exploration of the data to understand it"
   ]
  },
  {
   "cell_type": "code",
   "execution_count": null,
   "metadata": {},
   "outputs": [],
   "source": [
    "# number of rows and columns, printed as (rows, columns)\n",
    "\n",
    "df.shape"
   ]
  },
  {
   "cell_type": "code",
   "execution_count": null,
   "metadata": {},
   "outputs": [],
   "source": [
    "df.columns"
   ]
  },
  {
   "cell_type": "code",
   "execution_count": null,
   "metadata": {},
   "outputs": [],
   "source": [
    "df['age'].describe()"
   ]
  },
  {
   "cell_type": "code",
   "execution_count": null,
   "metadata": {},
   "outputs": [],
   "source": [
    "print(\"\\nSurvived values are:\", df['survived'].unique())\n",
    "print(\"\\nPclass values are:\", df['pclass'].unique())\n",
    "print(\"\\nSex values are:\", df['sex'].unique())\n",
    "print(\"\\nEmbark town values are:\", df['embark_town'].unique())\n"
   ]
  },
  {
   "cell_type": "markdown",
   "metadata": {},
   "source": [
    "For example `nan` indicates missing values ! How many are there ? "
   ]
  },
  {
   "cell_type": "code",
   "execution_count": null,
   "metadata": {},
   "outputs": [],
   "source": [
    "df['embark_town'].isna().sum()"
   ]
  },
  {
   "cell_type": "markdown",
   "metadata": {},
   "source": [
    "Two missing values for embark town. \n",
    "\n",
    "This can be relevant when you're working with data: you want to understand it first, before doing anything complicated like training a machine learning model!\n",
    "\n",
    "The advantage of using Python vs. Pyramid or Excel is that Python is **much better suited** to handle complex/large databases and to do things like machine learning. \n",
    "\n",
    "However, learning Python can imply a **steep learning curve**, in particular if you have no experience programming. Always remember that you should use the tool that is adapted to the task at hand: if your data needs are satisfied by Pyramid/Excel, no need to use Python at all costs.\n",
    "\n",
    "There are lots of libraries used to do data science in python: you can work with data using things like `pandas`, which is what we will briefly see today; but bear in mind that there are alternatives for working with large datasets (several tens of gb) like `dask` and `spark`.\n",
    "\n",
    "In addition to these libraries that *handle* data, there are libraries that can do a lot of analysis, including machine learning. These are things like `scikit-learn`, `tensorflow`, `pytorch`... "
   ]
  },
  {
   "cell_type": "code",
   "execution_count": null,
   "metadata": {},
   "outputs": [],
   "source": []
  }
 ],
 "metadata": {
  "colab": {
   "provenance": []
  },
  "kernelspec": {
   "display_name": "Python 3",
   "language": "python",
   "name": "python3"
  },
  "language_info": {
   "codemirror_mode": {
    "name": "ipython",
    "version": 3
   },
   "file_extension": ".py",
   "mimetype": "text/x-python",
   "name": "python",
   "nbconvert_exporter": "python",
   "pygments_lexer": "ipython3",
   "version": "3.9.7"
  }
 },
 "nbformat": 4,
 "nbformat_minor": 1
}
