{
 "cells": [
  {
   "cell_type": "markdown",
   "metadata": {
    "id": "BOiDLRcL1i3h"
   },
   "source": [
    "# Analysing Bananas telecom"
   ]
  },
  {
   "cell_type": "code",
   "execution_count": null,
   "metadata": {
    "colab": {
     "base_uri": "https://localhost:8080/",
     "height": 479
    },
    "id": "7S7Oj0BUw-rC",
    "outputId": "fdde88b9-0ffd-4e06-99eb-9bb266cb741c"
   },
   "outputs": [],
   "source": [
    "# Load data\n",
    "import pandas as pd\n",
    "url ='https://raw.githubusercontent.com/ccolon/lepont/main/Bananas_telecom.xlsx'\n",
    "df = pd.read_excel(url)\n",
    "print(df.shape)\n",
    "df.head()"
   ]
  },
  {
   "cell_type": "markdown",
   "metadata": {},
   "source": [
    "# Profiling\n",
    "\n",
    "Let's do some quick profiling"
   ]
  },
  {
   "cell_type": "code",
   "execution_count": null,
   "metadata": {},
   "outputs": [],
   "source": [
    "print(df.shape)\n",
    "print(f\"Number of unique client ids {df['Client_id'].nunique()}\")"
   ]
  },
  {
   "cell_type": "code",
   "execution_count": null,
   "metadata": {},
   "outputs": [],
   "source": [
    "print(f\"Unique values for Most frequently used handset: {df['Most frequently used handset 1st month'].unique()}\")"
   ]
  },
  {
   "cell_type": "code",
   "execution_count": null,
   "metadata": {},
   "outputs": [],
   "source": [
    "df['Non_payers'].value_counts()"
   ]
  },
  {
   "cell_type": "markdown",
   "metadata": {
    "id": "aa9Vfq0V1uwh"
   },
   "source": [
    "A useful module/library to make quick and interactive plots is **plotly.express**.\n",
    "\n",
    "Doing plots is also part of profiling: it helps us **understand the data**"
   ]
  },
  {
   "cell_type": "code",
   "execution_count": null,
   "metadata": {
    "colab": {
     "base_uri": "https://localhost:8080/",
     "height": 542
    },
    "id": "uJLI8_qFxBDH",
    "outputId": "0f70193e-f171-4a93-9331-9ad9cc608851"
   },
   "outputs": [],
   "source": [
    "import plotly.express as px\n",
    "fig = px.box(df, x=\"Non_payers\", y=\"Final_Rate_Plan_Price\")\n",
    "fig.show()"
   ]
  },
  {
   "cell_type": "code",
   "execution_count": null,
   "metadata": {
    "colab": {
     "base_uri": "https://localhost:8080/",
     "height": 542
    },
    "id": "PMgNnUni1DKm",
    "outputId": "25471bcf-945f-4a7a-e6d9-27ec5d6b27f7"
   },
   "outputs": [],
   "source": [
    "fig = px.scatter(df, x=\"Terminal_Price\", y=\"Final_Rate_Plan_Price\", color=\"Non_payers\")\n",
    "fig.show()"
   ]
  },
  {
   "cell_type": "code",
   "execution_count": null,
   "metadata": {},
   "outputs": [],
   "source": [
    "fig = px.scatter(df, x=\"Age\", y=\"Final_Rate_Plan_Price\", color=\"Non_payers\")\n",
    "fig.show()"
   ]
  },
  {
   "cell_type": "code",
   "execution_count": null,
   "metadata": {
    "colab": {
     "base_uri": "https://localhost:8080/",
     "height": 542
    },
    "id": "5Y0IGrVYyO-j",
    "outputId": "a4740f85-6410-44e1-fea6-0e40ac13775f"
   },
   "outputs": [],
   "source": [
    "av_terminal_price_per_cat = df.groupby([\"Non_payers\", \"Activation_Channel\"],\n",
    "                                       as_index=False)['Terminal_Price'].mean()\n",
    "fig = px.line_polar(av_terminal_price_per_cat,\n",
    "                    r=\"Terminal_Price\", theta=\"Activation_Channel\",\n",
    "                    color=\"Non_payers\", line_close=True, template=\"plotly_dark\")\n",
    "fig.show()"
   ]
  },
  {
   "cell_type": "code",
   "execution_count": null,
   "metadata": {},
   "outputs": [],
   "source": [
    "av_age_per_cat = df.groupby([\"Non_payers\", \"Activation_Channel\"],\n",
    "                                       as_index=False)['Age'].mean()\n",
    "fig = px.line_polar(av_age_per_cat,\n",
    "                    r=\"Age\", theta=\"Activation_Channel\",\n",
    "                    color=\"Non_payers\", line_close=True, template=\"plotly_dark\")\n",
    "fig.show()"
   ]
  },
  {
   "cell_type": "markdown",
   "metadata": {},
   "source": [
    "Do we have missing values? This is relevant for machine learning"
   ]
  },
  {
   "cell_type": "code",
   "execution_count": null,
   "metadata": {},
   "outputs": [],
   "source": [
    "df.isna().sum()"
   ]
  },
  {
   "cell_type": "markdown",
   "metadata": {},
   "source": [
    "Let's see 5 randomly chosen rows with missing values"
   ]
  },
  {
   "cell_type": "code",
   "execution_count": null,
   "metadata": {},
   "outputs": [],
   "source": [
    "df.loc[df.isna().any(axis=1)].sample(5)"
   ]
  },
  {
   "cell_type": "code",
   "execution_count": null,
   "metadata": {},
   "outputs": [],
   "source": [
    "df.shape"
   ]
  },
  {
   "cell_type": "markdown",
   "metadata": {
    "id": "5iEMWOYQ2CM6"
   },
   "source": [
    "For machine learning, we use **sklearn**"
   ]
  },
  {
   "cell_type": "markdown",
   "metadata": {},
   "source": [
    "We will first try a simple strategy: we will drop ALL rows with missing values.\n",
    "In practice, you might work with a small selection of columns: the column that you want to predict, and the columns that have predictive power."
   ]
  },
  {
   "cell_type": "code",
   "execution_count": null,
   "metadata": {
    "colab": {
     "base_uri": "https://localhost:8080/"
    },
    "id": "4e0yEYPpoGse",
    "outputId": "0c27af2b-009a-4785-f3a7-c3c40fba32ba"
   },
   "outputs": [],
   "source": [
    "# Remove null values (very rough)\n",
    "df_red = df.dropna().reset_index(drop=True)\n",
    "print(df_red.shape)"
   ]
  },
  {
   "cell_type": "code",
   "execution_count": null,
   "metadata": {
    "id": "VF5qOnE2newW"
   },
   "outputs": [],
   "source": [
    "# Generate target (y)\n",
    "target = df_red['Non_payers'].astype('category')\n",
    "\n",
    "# Generate predictors (X)\n",
    "predictors = df_red.drop(columns=['Non_payers', \"Client_id\"])\n"
   ]
  },
  {
   "cell_type": "code",
   "execution_count": null,
   "metadata": {},
   "outputs": [],
   "source": [
    "predictors.head(5)"
   ]
  },
  {
   "cell_type": "code",
   "execution_count": null,
   "metadata": {},
   "outputs": [],
   "source": [
    "df_red['Final_Rate_Plan'].unique()"
   ]
  },
  {
   "cell_type": "code",
   "execution_count": null,
   "metadata": {},
   "outputs": [],
   "source": [
    "target"
   ]
  },
  {
   "cell_type": "code",
   "execution_count": null,
   "metadata": {},
   "outputs": [],
   "source": [
    "predictors = pd.get_dummies(predictors)"
   ]
  },
  {
   "cell_type": "code",
   "execution_count": null,
   "metadata": {},
   "outputs": [],
   "source": [
    "predictors.head(5)"
   ]
  },
  {
   "cell_type": "code",
   "execution_count": null,
   "metadata": {
    "id": "1WFkfNic1ZNk"
   },
   "outputs": [],
   "source": [
    "# Spliting arrays or matrices into random train and test subsets\n",
    "from sklearn.model_selection import train_test_split\n",
    "# i.e. 70 % training dataset and 30 % test datasets\n",
    "X_train, X_test, y_train, y_test = train_test_split(predictors, target, test_size = 0.30)"
   ]
  },
  {
   "cell_type": "code",
   "execution_count": null,
   "metadata": {},
   "outputs": [],
   "source": [
    "X_train.head(5)"
   ]
  },
  {
   "cell_type": "code",
   "execution_count": null,
   "metadata": {},
   "outputs": [],
   "source": [
    "X_train.shape"
   ]
  },
  {
   "cell_type": "code",
   "execution_count": null,
   "metadata": {},
   "outputs": [],
   "source": [
    "predictors.shape"
   ]
  },
  {
   "cell_type": "code",
   "execution_count": null,
   "metadata": {},
   "outputs": [],
   "source": [
    "X_test.shape"
   ]
  },
  {
   "cell_type": "code",
   "execution_count": null,
   "metadata": {
    "id": "BSEPWBEx1iVl"
   },
   "outputs": [],
   "source": [
    "# creating a RF classifier\n",
    "from sklearn.ensemble import RandomForestClassifier\n",
    "clf = RandomForestClassifier(n_estimators = 100) \n",
    "\n",
    "# Training the model on the training dataset\n",
    "# fit function is used to train the model using the training sets as parameters\n",
    "clf.fit(X_train, y_train)\n",
    "# performing predictions on the test dataset\n",
    "y_pred = clf.predict(X_test)"
   ]
  },
  {
   "cell_type": "code",
   "execution_count": null,
   "metadata": {
    "colab": {
     "base_uri": "https://localhost:8080/"
    },
    "id": "iD0FipQE1vr1",
    "outputId": "9924448b-6bcd-47ad-e3f6-8305873ae88e"
   },
   "outputs": [],
   "source": [
    "# metrics are used to find accuracy or error\n",
    "from sklearn import metrics \n",
    " \n",
    "# using metrics module for accuracy calculation\n",
    "print(\"ACCURACY OF THE MODEL: \", metrics.accuracy_score(y_test, y_pred))\n",
    "print(\"PRECISION OF THE MODEL: \", metrics.precision_score(y_test, y_pred, pos_label=\"non payer\"))"
   ]
  },
  {
   "cell_type": "code",
   "execution_count": null,
   "metadata": {
    "colab": {
     "base_uri": "https://localhost:8080/"
    },
    "id": "ZCRbhDsntcjO",
    "outputId": "dd0fd46a-c62f-4e14-8918-a84a5d6201bc"
   },
   "outputs": [],
   "source": [
    "print(metrics.classification_report(y_test, y_pred))"
   ]
  },
  {
   "cell_type": "code",
   "execution_count": null,
   "metadata": {
    "colab": {
     "base_uri": "https://localhost:8080/",
     "height": 296
    },
    "id": "rwqhyqBzqcnK",
    "outputId": "e592c01c-ffdf-4c9a-9ba6-3abb4b1dd1be"
   },
   "outputs": [],
   "source": [
    "# using metrics module for confusion matrix\n",
    "confusion_matrix = metrics.confusion_matrix(y_test, y_pred)\n",
    "\n",
    "# plot it\n",
    "metrics.ConfusionMatrixDisplay(confusion_matrix).plot()"
   ]
  },
  {
   "cell_type": "markdown",
   "metadata": {
    "id": "Nj0hQoONrv7T"
   },
   "source": [
    "![](https://i0.wp.com/dataaspirant.com/wp-content/uploads/2020/08/5_type_1_error.png?w=500&ssl=1)\n",
    "![](https://i2.wp.com/dataaspirant.com/wp-content/uploads/2020/08/6_type_2_error.png?w=500&ssl=1)"
   ]
  },
  {
   "cell_type": "markdown",
   "metadata": {},
   "source": [
    "Can we understand which features are predictive?"
   ]
  },
  {
   "cell_type": "code",
   "execution_count": null,
   "metadata": {},
   "outputs": [],
   "source": [
    "from sklearn.feature_selection import SelectFromModel"
   ]
  },
  {
   "cell_type": "code",
   "execution_count": null,
   "metadata": {},
   "outputs": [],
   "source": [
    "sel = SelectFromModel(RandomForestClassifier(n_estimators = 100))\n",
    "\n",
    "# Training the model on the training dataset\n",
    "# fit function is used to train the model using the training sets as parameters\n",
    "sel.fit(X_train, y_train)"
   ]
  },
  {
   "cell_type": "code",
   "execution_count": null,
   "metadata": {},
   "outputs": [],
   "source": [
    "px.scatter(sel.estimator_.feature_importances_, hover_data=[predictors.columns])"
   ]
  },
  {
   "cell_type": "code",
   "execution_count": null,
   "metadata": {},
   "outputs": [],
   "source": [
    "selected_features = predictors.columns[sel.estimator_.feature_importances_ > 0.02]"
   ]
  },
  {
   "cell_type": "code",
   "execution_count": null,
   "metadata": {},
   "outputs": [],
   "source": [
    "selected_features"
   ]
  },
  {
   "cell_type": "code",
   "execution_count": null,
   "metadata": {},
   "outputs": [],
   "source": [
    "df.columns"
   ]
  },
  {
   "cell_type": "code",
   "execution_count": null,
   "metadata": {},
   "outputs": [],
   "source": [
    "columns_selection = ['Total revenues 1st month',\n",
    "                     'Cost_Of_Goods_Sold', 'Age',\n",
    "                     'Terminal_Price',\n",
    "                     'Duration of data usage 1st month',\n",
    "                     'SMS sent 1st month',\n",
    "                     'Number of calls received 1st month',\n",
    "                     'Number of calls made 1st month',\n",
    "                     'Final_Rate_Plan_Price',\n",
    "                     'Subsidy_pct',\n",
    "                     'Activation_Channel',\n",
    "                     'District',\n",
    "                    'Most frequently used handset 1st month',\n",
    "                     'Final_Rate_Plan',\n",
    "                    'Non_payers']"
   ]
  },
  {
   "cell_type": "code",
   "execution_count": null,
   "metadata": {},
   "outputs": [],
   "source": [
    "df_red2 = df[columns_selection].dropna()"
   ]
  },
  {
   "cell_type": "code",
   "execution_count": null,
   "metadata": {},
   "outputs": [],
   "source": [
    "# Generate target (y)\n",
    "target2 = df_red['Non_payers'].astype('category')\n",
    "\n",
    "# Generate predictors (X)\n",
    "predictors2 = df_red.drop(columns=['Non_payers'])\n",
    "\n",
    "predictors2 = pd.get_dummies(predictors)"
   ]
  },
  {
   "cell_type": "code",
   "execution_count": null,
   "metadata": {},
   "outputs": [],
   "source": [
    "X_train, X_test, y_train, y_test = train_test_split(predictors2, target2, test_size = 0.30)"
   ]
  },
  {
   "cell_type": "code",
   "execution_count": null,
   "metadata": {},
   "outputs": [],
   "source": [
    "print(\"ACCURACY OF THE MODEL: \", metrics.accuracy_score(y_test, y_pred))\n",
    "print(\"PRECISION OF THE MODEL: \", metrics.precision_score(y_test, y_pred, pos_label=\"non payer\"))"
   ]
  },
  {
   "cell_type": "code",
   "execution_count": null,
   "metadata": {},
   "outputs": [],
   "source": [
    "# using metrics module for confusion matrix\n",
    "confusion_matrix = metrics.confusion_matrix(y_test, y_pred)\n",
    "\n",
    "# plot it\n",
    "metrics.ConfusionMatrixDisplay(confusion_matrix).plot()"
   ]
  },
  {
   "cell_type": "code",
   "execution_count": null,
   "metadata": {},
   "outputs": [],
   "source": []
  }
 ],
 "metadata": {
  "colab": {
   "provenance": []
  },
  "kernelspec": {
   "display_name": "py3",
   "language": "python",
   "name": "py3"
  },
  "language_info": {
   "codemirror_mode": {
    "name": "ipython",
    "version": 3
   },
   "file_extension": ".py",
   "mimetype": "text/x-python",
   "name": "python",
   "nbconvert_exporter": "python",
   "pygments_lexer": "ipython3",
   "version": "3.10.6"
  }
 },
 "nbformat": 4,
 "nbformat_minor": 1
}
